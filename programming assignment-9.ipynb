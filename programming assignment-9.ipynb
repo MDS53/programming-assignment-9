{
 "cells": [
  {
   "cell_type": "markdown",
   "id": "21369dd5",
   "metadata": {},
   "source": [
    "### 1.\tWrite a Python program to check if the given number is a Disarium Number?"
   ]
  },
  {
   "cell_type": "code",
   "execution_count": 26,
   "id": "ba0f8d12",
   "metadata": {},
   "outputs": [
    {
     "name": "stdout",
     "output_type": "stream",
     "text": [
      "Enter a number89\n",
      "It is a disarium number\n"
     ]
    }
   ],
   "source": [
    "n=input(\"Enter a number\")\n",
    "p=[]\n",
    "s=0\n",
    "for i in range(len(n)):\n",
    "    k=int(n[i])\n",
    "    p.append(k**(i+1))\n",
    "n=int(n)\n",
    "for j in p:\n",
    "    s+=j\n",
    "if n==s:\n",
    "    print(\"It is a disarium number\")\n",
    "else:\n",
    "    print(\"It is not a disarium number\")"
   ]
  },
  {
   "cell_type": "markdown",
   "id": "de712c01",
   "metadata": {},
   "source": [
    "### 2.\tWrite a Python program to print all disarium numbers between 1 to 100?"
   ]
  },
  {
   "cell_type": "code",
   "execution_count": 30,
   "id": "f7a3d6e6",
   "metadata": {
    "scrolled": true
   },
   "outputs": [
    {
     "name": "stdout",
     "output_type": "stream",
     "text": [
      "1\n",
      "2\n",
      "3\n",
      "4\n",
      "5\n",
      "6\n",
      "7\n",
      "8\n",
      "9\n",
      "89\n"
     ]
    }
   ],
   "source": [
    "for f in range(1,100):\n",
    "    f=str(f)\n",
    "    p=[]\n",
    "    s=0\n",
    "    for i in range(len(f)):\n",
    "        k=int(f[i])\n",
    "        p.append(k**(i+1))\n",
    "    f=int(f)\n",
    "    for j in p:\n",
    "        s+=j\n",
    "    if f==s:\n",
    "        print(f)\n",
    "    else:\n",
    "        pass"
   ]
  },
  {
   "cell_type": "markdown",
   "id": "49b09dc5",
   "metadata": {},
   "source": [
    "### 3.\tWrite a Python program to check if the given number is Happy Number?"
   ]
  },
  {
   "cell_type": "code",
   "execution_count": 90,
   "id": "50270288",
   "metadata": {},
   "outputs": [
    {
     "name": "stdout",
     "output_type": "stream",
     "text": [
      "enter a numbe13\n",
      "It is a happy number\n"
     ]
    }
   ],
   "source": [
    "#  Happy numbers : 1, 7, 10, 13, 19, 23, 28, 31, 32, 44, 49, 68, 70, 79, 82, 86, 91, 94, 97, 100, ...\n",
    "n=input(\"enter a numbe\")\n",
    "while(True):\n",
    "    s=0\n",
    "    l=int(n)\n",
    "    for i in range(len(n)):\n",
    "        k=int(n[i])\n",
    "        s+=(k**2)\n",
    "    if s==1:\n",
    "        print(\"It is a happy number\")\n",
    "        break\n",
    "    elif s==4:\n",
    "        print(\"It is not a happy number\")\n",
    "        break\n",
    "    else:\n",
    "        s=str(s)\n",
    "        n=s\n",
    "        continue\n",
    "        "
   ]
  },
  {
   "cell_type": "markdown",
   "id": "038295e0",
   "metadata": {},
   "source": [
    "### 4.\tWrite a Python program to print all happy numbers between 1 and 100?"
   ]
  },
  {
   "cell_type": "code",
   "execution_count": 95,
   "id": "f43cc717",
   "metadata": {},
   "outputs": [
    {
     "name": "stdout",
     "output_type": "stream",
     "text": [
      "1 - is a happy number\n",
      "2 - is not a happy number\n",
      "3 - is not a happy number\n",
      "4 - is not a happy number\n",
      "5 - is not a happy number\n",
      "6 - is not a happy number\n",
      "7 - is a happy number\n",
      "8 - is not a happy number\n",
      "9 - is not a happy number\n",
      "10 - is a happy number\n",
      "11 - is not a happy number\n",
      "12 - is not a happy number\n",
      "13 - is a happy number\n",
      "14 - is not a happy number\n",
      "15 - is not a happy number\n",
      "16 - is not a happy number\n",
      "17 - is not a happy number\n",
      "18 - is not a happy number\n",
      "19 - is a happy number\n",
      "20 - is not a happy number\n",
      "21 - is not a happy number\n",
      "22 - is not a happy number\n",
      "23 - is a happy number\n",
      "24 - is not a happy number\n",
      "25 - is not a happy number\n",
      "26 - is not a happy number\n",
      "27 - is not a happy number\n",
      "28 - is a happy number\n",
      "29 - is not a happy number\n",
      "30 - is not a happy number\n",
      "31 - is a happy number\n",
      "32 - is a happy number\n",
      "33 - is not a happy number\n",
      "34 - is not a happy number\n",
      "35 - is not a happy number\n",
      "36 - is not a happy number\n",
      "37 - is not a happy number\n",
      "38 - is not a happy number\n",
      "39 - is not a happy number\n",
      "40 - is not a happy number\n",
      "41 - is not a happy number\n",
      "42 - is not a happy number\n",
      "43 - is not a happy number\n",
      "44 - is a happy number\n",
      "45 - is not a happy number\n",
      "46 - is not a happy number\n",
      "47 - is not a happy number\n",
      "48 - is not a happy number\n",
      "49 - is a happy number\n",
      "50 - is not a happy number\n",
      "51 - is not a happy number\n",
      "52 - is not a happy number\n",
      "53 - is not a happy number\n",
      "54 - is not a happy number\n",
      "55 - is not a happy number\n",
      "56 - is not a happy number\n",
      "57 - is not a happy number\n",
      "58 - is not a happy number\n",
      "59 - is not a happy number\n",
      "60 - is not a happy number\n",
      "61 - is not a happy number\n",
      "62 - is not a happy number\n",
      "63 - is not a happy number\n",
      "64 - is not a happy number\n",
      "65 - is not a happy number\n",
      "66 - is not a happy number\n",
      "67 - is not a happy number\n",
      "68 - is a happy number\n",
      "69 - is not a happy number\n",
      "70 - is a happy number\n",
      "71 - is not a happy number\n",
      "72 - is not a happy number\n",
      "73 - is not a happy number\n",
      "74 - is not a happy number\n",
      "75 - is not a happy number\n",
      "76 - is not a happy number\n",
      "77 - is not a happy number\n",
      "78 - is not a happy number\n",
      "79 - is a happy number\n",
      "80 - is not a happy number\n",
      "81 - is not a happy number\n",
      "82 - is a happy number\n",
      "83 - is not a happy number\n",
      "84 - is not a happy number\n",
      "85 - is not a happy number\n",
      "86 - is a happy number\n",
      "87 - is not a happy number\n",
      "88 - is not a happy number\n",
      "89 - is not a happy number\n",
      "90 - is not a happy number\n",
      "91 - is a happy number\n",
      "92 - is not a happy number\n",
      "93 - is not a happy number\n",
      "94 - is a happy number\n",
      "95 - is not a happy number\n",
      "96 - is not a happy number\n",
      "97 - is a happy number\n",
      "98 - is not a happy number\n",
      "99 - is not a happy number\n",
      "100 - is a happy number\n"
     ]
    }
   ],
   "source": [
    "#  Happy numbers : 1, 7, 10, 13, 19, 23, 28, 31, 32, 44, 49, 68, 70, 79, 82, 86, 91, 94, 97, 100, ..\n",
    "for j in range(1,101):\n",
    "    n=str(j)\n",
    "    while(True):\n",
    "        s=0\n",
    "        l=int(n)\n",
    "        for i in range(len(n)):\n",
    "            k=int(n[i])\n",
    "            s+=(k**2)\n",
    "        if s==1:\n",
    "            print(j,\"- is a happy number\")\n",
    "            break\n",
    "        elif s==4:\n",
    "            print(j,\"- is not a happy number\")\n",
    "            break\n",
    "        else:\n",
    "            s=str(s)\n",
    "            n=s\n",
    "            continue\n"
   ]
  },
  {
   "cell_type": "markdown",
   "id": "fe536936",
   "metadata": {},
   "source": [
    "### \t5.Write a Python program to determine whether the given number is a Harshad Number?\n"
   ]
  },
  {
   "cell_type": "code",
   "execution_count": 15,
   "id": "63a75f9c",
   "metadata": {},
   "outputs": [
    {
     "name": "stdout",
     "output_type": "stream",
     "text": [
      "123\n",
      "123 is not a harshad number\n"
     ]
    }
   ],
   "source": [
    "num =int(input())   \n",
    "rem = sum = 0       \n",
    "n = num        \n",
    "while(num > 0):    \n",
    "    rem = num%10    \n",
    "    sum = sum + rem    \n",
    "    num = num//10        \n",
    "if(n%sum == 0):    \n",
    "    print(str(n) + \" is a harshad number\")\n",
    "else:    \n",
    "    print(str(n) + \" is not a harshad number\")    "
   ]
  },
  {
   "cell_type": "markdown",
   "id": "197ed9fa",
   "metadata": {},
   "source": [
    "### \t6.Write a Python program to print all pronic numbers between 1 and 100?"
   ]
  },
  {
   "cell_type": "code",
   "execution_count": 129,
   "id": "5ab6106d",
   "metadata": {},
   "outputs": [
    {
     "name": "stdout",
     "output_type": "stream",
     "text": [
      "2\n",
      "6\n",
      "12\n",
      "20\n",
      "30\n",
      "42\n",
      "56\n",
      "72\n",
      "90\n"
     ]
    }
   ],
   "source": [
    "for i in range(1,101):\n",
    "    k=i*(i+1)\n",
    "    if k<100:\n",
    "        print(k)\n",
    "        continue\n",
    "    else:\n",
    "        break"
   ]
  }
 ],
 "metadata": {
  "kernelspec": {
   "display_name": "Python 3",
   "language": "python",
   "name": "python3"
  },
  "language_info": {
   "codemirror_mode": {
    "name": "ipython",
    "version": 3
   },
   "file_extension": ".py",
   "mimetype": "text/x-python",
   "name": "python",
   "nbconvert_exporter": "python",
   "pygments_lexer": "ipython3",
   "version": "3.8.8"
  }
 },
 "nbformat": 4,
 "nbformat_minor": 5
}
